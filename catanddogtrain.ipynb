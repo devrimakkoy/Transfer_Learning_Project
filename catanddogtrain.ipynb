{
 "cells": [
  {
   "cell_type": "code",
   "execution_count": 1,
   "id": "164e0bb1",
   "metadata": {},
   "outputs": [],
   "source": [
    "import pandas as pd\n",
    "import numpy as np\n",
    "import os\n",
    "import cv2\n",
    "import random\n",
    "import pickle\n",
    "import matplotlib.pyplot as plt\n",
    "import tensorflow as tf"
   ]
  },
  {
   "cell_type": "code",
   "execution_count": 2,
   "id": "0577ebe6",
   "metadata": {},
   "outputs": [],
   "source": [
    "x_train=pickle.load(open(\"x_train.pkl\",\"rb\"))\n",
    "y_train=pickle.load(open(\"y_train.pkl\",\"rb\"))\n",
    "x_test=pickle.load(open(\"x_test.pkl\",\"rb\"))\n",
    "y_test=pickle.load(open(\"y_test.pkl\",\"rb\"))"
   ]
  },
  {
   "cell_type": "markdown",
   "id": "0b2c77ca",
   "metadata": {},
   "source": [
    "Pickle olarak kaydettiğimiz dosyaları tekrardan yükleriz."
   ]
  },
  {
   "cell_type": "code",
   "execution_count": 3,
   "id": "767a686f",
   "metadata": {},
   "outputs": [
    {
     "name": "stdout",
     "output_type": "stream",
     "text": [
      "(16713, 32, 32, 3)\n",
      "(16713, 1)\n"
     ]
    }
   ],
   "source": [
    "print(x_train.shape)\n",
    "print(y_train.shape)"
   ]
  },
  {
   "cell_type": "code",
   "execution_count": 4,
   "id": "b14ed4c9",
   "metadata": {},
   "outputs": [],
   "source": [
    "x_train=x_train/255.0\n",
    "x_test=x_test/255.0"
   ]
  },
  {
   "cell_type": "markdown",
   "id": "521d2897",
   "metadata": {},
   "source": [
    "Normalize işlemlerini yaparız. Daha sonra modelimizi yazıp loss ve accuracy oranlarını buluruz."
   ]
  },
  {
   "cell_type": "code",
   "execution_count": 5,
   "id": "a0dec184",
   "metadata": {},
   "outputs": [],
   "source": [
    "model=tf.keras.models.Sequential([                                  \n",
    "                                  tf.keras.layers.Flatten(input_shape=x_train.shape[1:]),\n",
    "                                  tf.keras.layers.Dense(128,activation=\"relu\"),\n",
    "                                  tf.keras.layers.Dense(2,activation=\"softmax\")\n",
    "                                  ])"
   ]
  },
  {
   "cell_type": "code",
   "execution_count": 6,
   "id": "91d35fad",
   "metadata": {},
   "outputs": [],
   "source": [
    "model.compile(\n",
    "    optimizer=\"adam\",\n",
    "    loss=tf.keras.losses.SparseCategoricalCrossentropy(),\n",
    "    metrics=[\"accuracy\"]\n",
    "\n",
    ")"
   ]
  },
  {
   "cell_type": "code",
   "execution_count": 7,
   "id": "6377b6f4",
   "metadata": {},
   "outputs": [
    {
     "name": "stdout",
     "output_type": "stream",
     "text": [
      "Epoch 1/5\n",
      "471/471 [==============================] - 3s 5ms/step - loss: 0.7204 - accuracy: 0.5380 - val_loss: 0.6886 - val_accuracy: 0.5413\n",
      "Epoch 2/5\n",
      "471/471 [==============================] - 2s 4ms/step - loss: 0.6851 - accuracy: 0.5506 - val_loss: 0.6788 - val_accuracy: 0.5646\n",
      "Epoch 3/5\n",
      "471/471 [==============================] - 2s 4ms/step - loss: 0.6773 - accuracy: 0.5715 - val_loss: 0.6682 - val_accuracy: 0.5873\n",
      "Epoch 4/5\n",
      "471/471 [==============================] - 2s 4ms/step - loss: 0.6709 - accuracy: 0.5864 - val_loss: 0.6654 - val_accuracy: 0.5945\n",
      "Epoch 5/5\n",
      "471/471 [==============================] - 2s 4ms/step - loss: 0.6609 - accuracy: 0.6036 - val_loss: 0.6530 - val_accuracy: 0.6142\n"
     ]
    },
    {
     "data": {
      "text/plain": [
       "<keras.callbacks.History at 0x26018f87df0>"
      ]
     },
     "execution_count": 7,
     "metadata": {},
     "output_type": "execute_result"
    }
   ],
   "source": [
    "model.fit(x_train,y_train,epochs=5,validation_split=0.1)"
   ]
  },
  {
   "cell_type": "code",
   "execution_count": null,
   "id": "a2525e16",
   "metadata": {},
   "outputs": [],
   "source": []
  }
 ],
 "metadata": {
  "kernelspec": {
   "display_name": "Python 3 (ipykernel)",
   "language": "python",
   "name": "python3"
  },
  "language_info": {
   "codemirror_mode": {
    "name": "ipython",
    "version": 3
   },
   "file_extension": ".py",
   "mimetype": "text/x-python",
   "name": "python",
   "nbconvert_exporter": "python",
   "pygments_lexer": "ipython3",
   "version": "3.9.12"
  }
 },
 "nbformat": 4,
 "nbformat_minor": 5
}
